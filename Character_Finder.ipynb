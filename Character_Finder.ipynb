{
  "nbformat": 4,
  "nbformat_minor": 0,
  "metadata": {
    "colab": {
      "provenance": []
    },
    "kernelspec": {
      "name": "python3",
      "display_name": "Python 3"
    },
    "language_info": {
      "name": "python"
    }
  },
  "cells": [
    {
      "cell_type": "code",
      "source": [
        "# Step 1: Mount Google Drive\n",
        "from google.colab import drive\n",
        "drive.mount('/content/drive', force_remount=True)\n",
        "\n",
        "# Step 2: Install necessary libraries\n",
        "!pip install opencv-python-headless\n",
        "\n",
        "# Step 3: Import libraries\n",
        "import cv2\n",
        "import numpy as np\n",
        "import os\n",
        "\n",
        "# Step 4: Define the path to the image on Google Drive\n",
        "image_path = '/content/drive/MyDrive/image.jpeg'\n",
        "\n",
        "# Step 5: Load the image\n",
        "image = cv2.imread(image_path)\n",
        "\n",
        "# Check if the image is loaded successfully\n",
        "if image is None:\n",
        "    raise ValueError(\"Image not loaded. Please check the image path.\")\n",
        "\n",
        "# Step 6: Convert the image to grayscale\n",
        "gray = cv2.cvtColor(image, cv2.COLOR_BGR2GRAY)\n",
        "\n",
        "# Step 7: Apply GaussianBlur to reduce noise\n",
        "blurred = cv2.GaussianBlur(gray, (5, 5), 0)\n",
        "\n",
        "# Step 8: Apply edge detection\n",
        "edges = cv2.Canny(blurred, 50, 150)\n",
        "\n",
        "# Step 9: Find contours based on edges\n",
        "contours, _ = cv2.findContours(edges, cv2.RETR_TREE, cv2.CHAIN_APPROX_SIMPLE)\n",
        "\n",
        "# Step 10: Find the contour with the largest area, assuming it's the license plate\n",
        "license_plate_contour = max(contours, key=cv2.contourArea)\n",
        "\n",
        "# Step 11: Get the bounding box of the license plate contour\n",
        "x, y, w, h = cv2.boundingRect(license_plate_contour)\n",
        "\n",
        "# Step 12: Crop the license plate area from the image\n",
        "license_plate = image[y:y+h, x:x+w]\n",
        "\n",
        "# Step 13: Convert the cropped license plate to grayscale\n",
        "license_plate_gray = cv2.cvtColor(license_plate, cv2.COLOR_BGR2GRAY)\n",
        "\n",
        "# Step 14: Apply GaussianBlur to reduce noise\n",
        "blurred_license_plate = cv2.GaussianBlur(license_plate_gray, (5, 5), 0)\n",
        "\n",
        "# Step 15: Apply adaptive thresholding\n",
        "thresh = cv2.adaptiveThreshold(blurred_license_plate, 255, cv2.ADAPTIVE_THRESH_GAUSSIAN_C, cv2.THRESH_BINARY_INV, 11, 2)\n",
        "\n",
        "# Step 16: Apply morphological operations to close gaps between contours\n",
        "kernel = cv2.getStructuringElement(cv2.MORPH_RECT, (3, 3))\n",
        "morph = cv2.morphologyEx(thresh, cv2.MORPH_CLOSE, kernel)\n",
        "\n",
        "# Step 17: Find contours on the thresholded image\n",
        "contours, _ = cv2.findContours(morph, cv2.RETR_EXTERNAL, cv2.CHAIN_APPROX_SIMPLE)\n",
        "\n",
        "# Step 18: Create a directory to save individual characters\n",
        "output_dir = '/content/drive/MyDrive/license_plate_characters'\n",
        "os.makedirs(output_dir, exist_ok=True)\n",
        "\n",
        "# Step 19: Extract and save individual characters and draw rectangles around them\n",
        "char_count = 0\n",
        "for contour in contours:\n",
        "    x, y, w, h = cv2.boundingRect(contour)\n",
        "    aspect_ratio = w / float(h)\n",
        "    if 0.2 < aspect_ratio < 1.0 and w > 15 and h > 30:  # Filter out non-character contours\n",
        "        char = license_plate[y:y+h, x:x+w]\n",
        "        char_path = os.path.join(output_dir, f'char_{char_count}.png')\n",
        "        cv2.imwrite(char_path, char)\n",
        "        char_count += 1\n",
        "        # Draw rectangle around each character\n",
        "        cv2.rectangle(license_plate, (x, y), (x+w, y+h), (0, 255, 0), 2)\n",
        "\n",
        "output_image_path = '/content/drive/MyDrive/license_plate_with_boxes.jpg'\n",
        "cv2.imwrite(output_image_path, image)\n",
        "\n",
        "print(f'{char_count} characters extracted and saved to {output_dir}')\n",
        "print(f'Image with boxes saved to {output_image_path}')\n"
      ],
      "metadata": {
        "colab": {
          "base_uri": "https://localhost:8080/"
        },
        "id": "vCuNI6jxHiAS",
        "outputId": "1722ae72-8b3d-4594-ae13-207fb657495a"
      },
      "execution_count": null,
      "outputs": [
        {
          "output_type": "stream",
          "name": "stdout",
          "text": [
            "Mounted at /content/drive\n",
            "Requirement already satisfied: opencv-python-headless in /usr/local/lib/python3.10/dist-packages (4.10.0.84)\n",
            "Requirement already satisfied: numpy>=1.21.2 in /usr/local/lib/python3.10/dist-packages (from opencv-python-headless) (1.25.2)\n",
            "7 characters extracted and saved to /content/drive/MyDrive/license_plate_characters\n",
            "Image with boxes saved to /content/drive/MyDrive/license_plate_with_boxes.jpg\n"
          ]
        }
      ]
    }
  ]
}